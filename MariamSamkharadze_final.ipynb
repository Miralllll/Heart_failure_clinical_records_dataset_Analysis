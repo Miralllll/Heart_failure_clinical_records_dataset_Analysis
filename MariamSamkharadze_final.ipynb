{
 "cells": [
  {
   "cell_type": "markdown",
   "metadata": {},
   "source": [
    "# Task Details\n",
    "Create a model to access the likelihood of a death by heart failure event.\n",
    "This can be used to help hospitals in assessing the severity of patients with cardiovascular diseases."
   ]
  },
  {
   "cell_type": "markdown",
   "metadata": {},
   "source": [
    "# ოთხი ეტაპი:\n",
    "    1. მონაცემთა ანალიზი და ვიზუალიზაცია\n",
    "    2. მონაცემთა გარდაქმნა\n",
    "    3. მოდელის იმპლემენტაცია\n",
    "    4. ოპტიმიზაცია"
   ]
  },
  {
   "cell_type": "markdown",
   "metadata": {},
   "source": [
    "ბიბლიოთეკები:"
   ]
  },
  {
   "cell_type": "code",
   "execution_count": 1,
   "metadata": {},
   "outputs": [],
   "source": [
    "import pandas as pd\n",
    "import numpy as np\n",
    "import matplotlib.pyplot as plt\n",
    "import matplotlib.mlab as mlab\n",
    "import seaborn as sns\n",
    "from scipy import stats\n",
    "%matplotlib inline"
   ]
  },
  {
   "cell_type": "markdown",
   "metadata": {},
   "source": [
    "# 1. მონაცემთა ანალიზი და ვიზუალიზაცია"
   ]
  },
  {
   "cell_type": "code",
   "execution_count": 2,
   "metadata": {
    "scrolled": true
   },
   "outputs": [
    {
     "data": {
      "text/html": [
       "<div>\n",
       "<style scoped>\n",
       "    .dataframe tbody tr th:only-of-type {\n",
       "        vertical-align: middle;\n",
       "    }\n",
       "\n",
       "    .dataframe tbody tr th {\n",
       "        vertical-align: top;\n",
       "    }\n",
       "\n",
       "    .dataframe thead th {\n",
       "        text-align: right;\n",
       "    }\n",
       "</style>\n",
       "<table border=\"1\" class=\"dataframe\">\n",
       "  <thead>\n",
       "    <tr style=\"text-align: right;\">\n",
       "      <th></th>\n",
       "      <th>age</th>\n",
       "      <th>anaemia</th>\n",
       "      <th>creatinine_phosphokinase</th>\n",
       "      <th>diabetes</th>\n",
       "      <th>ejection_fraction</th>\n",
       "      <th>high_blood_pressure</th>\n",
       "      <th>platelets</th>\n",
       "      <th>serum_creatinine</th>\n",
       "      <th>serum_sodium</th>\n",
       "      <th>sex</th>\n",
       "      <th>smoking</th>\n",
       "      <th>time</th>\n",
       "      <th>DEATH_EVENT</th>\n",
       "    </tr>\n",
       "  </thead>\n",
       "  <tbody>\n",
       "    <tr>\n",
       "      <th>0</th>\n",
       "      <td>75.0</td>\n",
       "      <td>0</td>\n",
       "      <td>582</td>\n",
       "      <td>0</td>\n",
       "      <td>20</td>\n",
       "      <td>1</td>\n",
       "      <td>265000.00</td>\n",
       "      <td>1.9</td>\n",
       "      <td>130</td>\n",
       "      <td>1</td>\n",
       "      <td>0</td>\n",
       "      <td>4</td>\n",
       "      <td>1</td>\n",
       "    </tr>\n",
       "    <tr>\n",
       "      <th>1</th>\n",
       "      <td>55.0</td>\n",
       "      <td>0</td>\n",
       "      <td>7861</td>\n",
       "      <td>0</td>\n",
       "      <td>38</td>\n",
       "      <td>0</td>\n",
       "      <td>263358.03</td>\n",
       "      <td>1.1</td>\n",
       "      <td>136</td>\n",
       "      <td>1</td>\n",
       "      <td>0</td>\n",
       "      <td>6</td>\n",
       "      <td>1</td>\n",
       "    </tr>\n",
       "    <tr>\n",
       "      <th>2</th>\n",
       "      <td>65.0</td>\n",
       "      <td>0</td>\n",
       "      <td>146</td>\n",
       "      <td>0</td>\n",
       "      <td>20</td>\n",
       "      <td>0</td>\n",
       "      <td>162000.00</td>\n",
       "      <td>1.3</td>\n",
       "      <td>129</td>\n",
       "      <td>1</td>\n",
       "      <td>1</td>\n",
       "      <td>7</td>\n",
       "      <td>1</td>\n",
       "    </tr>\n",
       "    <tr>\n",
       "      <th>3</th>\n",
       "      <td>50.0</td>\n",
       "      <td>1</td>\n",
       "      <td>111</td>\n",
       "      <td>0</td>\n",
       "      <td>20</td>\n",
       "      <td>0</td>\n",
       "      <td>210000.00</td>\n",
       "      <td>1.9</td>\n",
       "      <td>137</td>\n",
       "      <td>1</td>\n",
       "      <td>0</td>\n",
       "      <td>7</td>\n",
       "      <td>1</td>\n",
       "    </tr>\n",
       "    <tr>\n",
       "      <th>4</th>\n",
       "      <td>65.0</td>\n",
       "      <td>1</td>\n",
       "      <td>160</td>\n",
       "      <td>1</td>\n",
       "      <td>20</td>\n",
       "      <td>0</td>\n",
       "      <td>327000.00</td>\n",
       "      <td>2.7</td>\n",
       "      <td>116</td>\n",
       "      <td>0</td>\n",
       "      <td>0</td>\n",
       "      <td>8</td>\n",
       "      <td>1</td>\n",
       "    </tr>\n",
       "  </tbody>\n",
       "</table>\n",
       "</div>"
      ],
      "text/plain": [
       "    age  anaemia  creatinine_phosphokinase  diabetes  ejection_fraction  \\\n",
       "0  75.0        0                       582         0                 20   \n",
       "1  55.0        0                      7861         0                 38   \n",
       "2  65.0        0                       146         0                 20   \n",
       "3  50.0        1                       111         0                 20   \n",
       "4  65.0        1                       160         1                 20   \n",
       "\n",
       "   high_blood_pressure  platelets  serum_creatinine  serum_sodium  sex  \\\n",
       "0                    1  265000.00               1.9           130    1   \n",
       "1                    0  263358.03               1.1           136    1   \n",
       "2                    0  162000.00               1.3           129    1   \n",
       "3                    0  210000.00               1.9           137    1   \n",
       "4                    0  327000.00               2.7           116    0   \n",
       "\n",
       "   smoking  time  DEATH_EVENT  \n",
       "0        0     4            1  \n",
       "1        0     6            1  \n",
       "2        1     7            1  \n",
       "3        0     7            1  \n",
       "4        0     8            1  "
      ]
     },
     "execution_count": 2,
     "metadata": {},
     "output_type": "execute_result"
    }
   ],
   "source": [
    "import os\n",
    "data = pd.read_csv('heart_failure_clinical_records_dataset.csv')\n",
    "data.head()"
   ]
  },
  {
   "cell_type": "markdown",
   "metadata": {},
   "source": [
    "--------------------------------------------------------------------------------------------------------------------------------\n",
    "# ეტაპი 1: \n",
    "ფიჩერების რაოდენობა, ცვლადების რაოდენობა\n"
   ]
  },
  {
   "cell_type": "code",
   "execution_count": 3,
   "metadata": {},
   "outputs": [
    {
     "data": {
      "text/plain": [
       "(299, 13)"
      ]
     },
     "execution_count": 3,
     "metadata": {},
     "output_type": "execute_result"
    }
   ],
   "source": [
    "data.shape"
   ]
  },
  {
   "cell_type": "markdown",
   "metadata": {},
   "source": [
    "--------------------------------------------------------------------------------------------------------------------------------\n",
    "# ეტაპი 2: \n",
    "შევამოწმოთ ფიჩერები შეიცავენ თუ არა null ცვლადებს, თუ კი რა პროცენტობით.\n"
   ]
  },
  {
   "cell_type": "code",
   "execution_count": 4,
   "metadata": {},
   "outputs": [
    {
     "name": "stdout",
     "output_type": "stream",
     "text": [
      "age 0.0%\n",
      "anaemia 0.0%\n",
      "creatinine_phosphokinase 0.0%\n",
      "diabetes 0.0%\n",
      "ejection_fraction 0.0%\n",
      "high_blood_pressure 0.0%\n",
      "platelets 0.0%\n",
      "serum_creatinine 0.0%\n",
      "serum_sodium 0.0%\n",
      "sex 0.0%\n",
      "smoking 0.0%\n",
      "time 0.0%\n",
      "DEATH_EVENT 0.0%\n"
     ]
    }
   ],
   "source": [
    "for col in data.columns:\n",
    "    nullOrNot = data[col].isnull()\n",
    "    nullNumber = nullOrNot.sum()\n",
    "    print(col, str(nullNumber / len(data[col]) * 100) + '%')"
   ]
  },
  {
   "cell_type": "markdown",
   "metadata": {},
   "source": [
    "--------------------------------------------------------------------------------------------------------------------------------\n",
    "# ეტაპი 3: \n",
    "ვნახოთ კატეგორიული ცვლადები გვაქვს თუ არა (რადგან თუ გვაქვს შემდგომში დაგვჭირდება რიცხვითში, ან ვექტორულში გადაყვანა).\n"
   ]
  },
  {
   "cell_type": "code",
   "execution_count": 5,
   "metadata": {},
   "outputs": [
    {
     "data": {
      "text/plain": [
       "age                         float64\n",
       "anaemia                       int64\n",
       "creatinine_phosphokinase      int64\n",
       "diabetes                      int64\n",
       "ejection_fraction             int64\n",
       "high_blood_pressure           int64\n",
       "platelets                   float64\n",
       "serum_creatinine            float64\n",
       "serum_sodium                  int64\n",
       "sex                           int64\n",
       "smoking                       int64\n",
       "time                          int64\n",
       "DEATH_EVENT                   int64\n",
       "dtype: object"
      ]
     },
     "execution_count": 5,
     "metadata": {},
     "output_type": "execute_result"
    }
   ],
   "source": [
    "data.dtypes"
   ]
  },
  {
   "cell_type": "markdown",
   "metadata": {},
   "source": [
    "continuous ფიჩერები გვაქვს - age,features platelets and serum_creatinine."
   ]
  },
  {
   "cell_type": "code",
   "execution_count": 6,
   "metadata": {},
   "outputs": [
    {
     "data": {
      "text/html": [
       "<div>\n",
       "<style scoped>\n",
       "    .dataframe tbody tr th:only-of-type {\n",
       "        vertical-align: middle;\n",
       "    }\n",
       "\n",
       "    .dataframe tbody tr th {\n",
       "        vertical-align: top;\n",
       "    }\n",
       "\n",
       "    .dataframe thead th {\n",
       "        text-align: right;\n",
       "    }\n",
       "</style>\n",
       "<table border=\"1\" class=\"dataframe\">\n",
       "  <thead>\n",
       "    <tr style=\"text-align: right;\">\n",
       "      <th></th>\n",
       "      <th>age</th>\n",
       "      <th>anaemia</th>\n",
       "      <th>creatinine_phosphokinase</th>\n",
       "      <th>diabetes</th>\n",
       "      <th>ejection_fraction</th>\n",
       "      <th>high_blood_pressure</th>\n",
       "      <th>platelets</th>\n",
       "      <th>serum_creatinine</th>\n",
       "      <th>serum_sodium</th>\n",
       "      <th>sex</th>\n",
       "      <th>smoking</th>\n",
       "      <th>time</th>\n",
       "      <th>DEATH_EVENT</th>\n",
       "    </tr>\n",
       "  </thead>\n",
       "  <tbody>\n",
       "    <tr>\n",
       "      <th>count</th>\n",
       "      <td>299.000000</td>\n",
       "      <td>299.000000</td>\n",
       "      <td>299.000000</td>\n",
       "      <td>299.000000</td>\n",
       "      <td>299.000000</td>\n",
       "      <td>299.000000</td>\n",
       "      <td>299.000000</td>\n",
       "      <td>299.00000</td>\n",
       "      <td>299.000000</td>\n",
       "      <td>299.000000</td>\n",
       "      <td>299.00000</td>\n",
       "      <td>299.000000</td>\n",
       "      <td>299.00000</td>\n",
       "    </tr>\n",
       "    <tr>\n",
       "      <th>mean</th>\n",
       "      <td>60.833893</td>\n",
       "      <td>0.431438</td>\n",
       "      <td>581.839465</td>\n",
       "      <td>0.418060</td>\n",
       "      <td>38.083612</td>\n",
       "      <td>0.351171</td>\n",
       "      <td>263358.029264</td>\n",
       "      <td>1.39388</td>\n",
       "      <td>136.625418</td>\n",
       "      <td>0.648829</td>\n",
       "      <td>0.32107</td>\n",
       "      <td>130.260870</td>\n",
       "      <td>0.32107</td>\n",
       "    </tr>\n",
       "    <tr>\n",
       "      <th>std</th>\n",
       "      <td>11.894809</td>\n",
       "      <td>0.496107</td>\n",
       "      <td>970.287881</td>\n",
       "      <td>0.494067</td>\n",
       "      <td>11.834841</td>\n",
       "      <td>0.478136</td>\n",
       "      <td>97804.236869</td>\n",
       "      <td>1.03451</td>\n",
       "      <td>4.412477</td>\n",
       "      <td>0.478136</td>\n",
       "      <td>0.46767</td>\n",
       "      <td>77.614208</td>\n",
       "      <td>0.46767</td>\n",
       "    </tr>\n",
       "    <tr>\n",
       "      <th>min</th>\n",
       "      <td>40.000000</td>\n",
       "      <td>0.000000</td>\n",
       "      <td>23.000000</td>\n",
       "      <td>0.000000</td>\n",
       "      <td>14.000000</td>\n",
       "      <td>0.000000</td>\n",
       "      <td>25100.000000</td>\n",
       "      <td>0.50000</td>\n",
       "      <td>113.000000</td>\n",
       "      <td>0.000000</td>\n",
       "      <td>0.00000</td>\n",
       "      <td>4.000000</td>\n",
       "      <td>0.00000</td>\n",
       "    </tr>\n",
       "    <tr>\n",
       "      <th>25%</th>\n",
       "      <td>51.000000</td>\n",
       "      <td>0.000000</td>\n",
       "      <td>116.500000</td>\n",
       "      <td>0.000000</td>\n",
       "      <td>30.000000</td>\n",
       "      <td>0.000000</td>\n",
       "      <td>212500.000000</td>\n",
       "      <td>0.90000</td>\n",
       "      <td>134.000000</td>\n",
       "      <td>0.000000</td>\n",
       "      <td>0.00000</td>\n",
       "      <td>73.000000</td>\n",
       "      <td>0.00000</td>\n",
       "    </tr>\n",
       "    <tr>\n",
       "      <th>50%</th>\n",
       "      <td>60.000000</td>\n",
       "      <td>0.000000</td>\n",
       "      <td>250.000000</td>\n",
       "      <td>0.000000</td>\n",
       "      <td>38.000000</td>\n",
       "      <td>0.000000</td>\n",
       "      <td>262000.000000</td>\n",
       "      <td>1.10000</td>\n",
       "      <td>137.000000</td>\n",
       "      <td>1.000000</td>\n",
       "      <td>0.00000</td>\n",
       "      <td>115.000000</td>\n",
       "      <td>0.00000</td>\n",
       "    </tr>\n",
       "    <tr>\n",
       "      <th>75%</th>\n",
       "      <td>70.000000</td>\n",
       "      <td>1.000000</td>\n",
       "      <td>582.000000</td>\n",
       "      <td>1.000000</td>\n",
       "      <td>45.000000</td>\n",
       "      <td>1.000000</td>\n",
       "      <td>303500.000000</td>\n",
       "      <td>1.40000</td>\n",
       "      <td>140.000000</td>\n",
       "      <td>1.000000</td>\n",
       "      <td>1.00000</td>\n",
       "      <td>203.000000</td>\n",
       "      <td>1.00000</td>\n",
       "    </tr>\n",
       "    <tr>\n",
       "      <th>max</th>\n",
       "      <td>95.000000</td>\n",
       "      <td>1.000000</td>\n",
       "      <td>7861.000000</td>\n",
       "      <td>1.000000</td>\n",
       "      <td>80.000000</td>\n",
       "      <td>1.000000</td>\n",
       "      <td>850000.000000</td>\n",
       "      <td>9.40000</td>\n",
       "      <td>148.000000</td>\n",
       "      <td>1.000000</td>\n",
       "      <td>1.00000</td>\n",
       "      <td>285.000000</td>\n",
       "      <td>1.00000</td>\n",
       "    </tr>\n",
       "  </tbody>\n",
       "</table>\n",
       "</div>"
      ],
      "text/plain": [
       "              age     anaemia  creatinine_phosphokinase    diabetes  \\\n",
       "count  299.000000  299.000000                299.000000  299.000000   \n",
       "mean    60.833893    0.431438                581.839465    0.418060   \n",
       "std     11.894809    0.496107                970.287881    0.494067   \n",
       "min     40.000000    0.000000                 23.000000    0.000000   \n",
       "25%     51.000000    0.000000                116.500000    0.000000   \n",
       "50%     60.000000    0.000000                250.000000    0.000000   \n",
       "75%     70.000000    1.000000                582.000000    1.000000   \n",
       "max     95.000000    1.000000               7861.000000    1.000000   \n",
       "\n",
       "       ejection_fraction  high_blood_pressure      platelets  \\\n",
       "count         299.000000           299.000000     299.000000   \n",
       "mean           38.083612             0.351171  263358.029264   \n",
       "std            11.834841             0.478136   97804.236869   \n",
       "min            14.000000             0.000000   25100.000000   \n",
       "25%            30.000000             0.000000  212500.000000   \n",
       "50%            38.000000             0.000000  262000.000000   \n",
       "75%            45.000000             1.000000  303500.000000   \n",
       "max            80.000000             1.000000  850000.000000   \n",
       "\n",
       "       serum_creatinine  serum_sodium         sex    smoking        time  \\\n",
       "count         299.00000    299.000000  299.000000  299.00000  299.000000   \n",
       "mean            1.39388    136.625418    0.648829    0.32107  130.260870   \n",
       "std             1.03451      4.412477    0.478136    0.46767   77.614208   \n",
       "min             0.50000    113.000000    0.000000    0.00000    4.000000   \n",
       "25%             0.90000    134.000000    0.000000    0.00000   73.000000   \n",
       "50%             1.10000    137.000000    1.000000    0.00000  115.000000   \n",
       "75%             1.40000    140.000000    1.000000    1.00000  203.000000   \n",
       "max             9.40000    148.000000    1.000000    1.00000  285.000000   \n",
       "\n",
       "       DEATH_EVENT  \n",
       "count    299.00000  \n",
       "mean       0.32107  \n",
       "std        0.46767  \n",
       "min        0.00000  \n",
       "25%        0.00000  \n",
       "50%        0.00000  \n",
       "75%        1.00000  \n",
       "max        1.00000  "
      ]
     },
     "execution_count": 6,
     "metadata": {},
     "output_type": "execute_result"
    }
   ],
   "source": [
    "data.describe()"
   ]
  },
  {
   "cell_type": "markdown",
   "metadata": {},
   "source": [
    "კატეგორიზაციის ცვლადები უკვე int64-ითაა (კონკრეტულად კი 0/1 -ით) წარმოდგენილი."
   ]
  },
  {
   "cell_type": "code",
   "execution_count": 7,
   "metadata": {},
   "outputs": [],
   "source": [
    "cat_cols=list()\n",
    "num_cols=list()\n",
    "for col in data.columns:\n",
    "    if np.all((data[col] == 1) | (data[col] == 0)):\n",
    "        cat_cols.append(col)\n",
    "    else:\n",
    "        num_cols.append(col)"
   ]
  },
  {
   "cell_type": "markdown",
   "metadata": {},
   "source": [
    "ამ თვისებით განვაცალკევე ორ ლისტად (კატეგორიულად და \"რიცხვითად\")."
   ]
  },
  {
   "cell_type": "markdown",
   "metadata": {},
   "source": [
    "--------------------------------------------------------------------------------------------------------------------------------\n",
    "# ეტაპი 4: \n",
    "კონკრეტული ფიჩერების რაოდენობრივ განაწილებაზე დაკვირვება\n"
   ]
  },
  {
   "cell_type": "markdown",
   "metadata": {},
   "source": [
    "დავაკვირდეთ აზრობრივად ნომინალურ ცვლადებს (0/1) და ინფორმაციის რაოდენობას\n"
   ]
  },
  {
   "cell_type": "code",
   "execution_count": 8,
   "metadata": {},
   "outputs": [
    {
     "data": {
      "image/png": "[encoded data removed]",
      "text/plain": [
       "<Figure size 1296x432 with 2 Axes>"
      ]
     },
     "metadata": {},
     "output_type": "display_data"
    }
   ],
   "source": [
    "f, ax  = plt.subplots(1,2,figsize = (18,6))\n",
    "sns.countplot(data['anaemia'],ax=ax[0],palette = 'dark',alpha=0.7)\n",
    "\n",
    "loan_status_count = data['anaemia'].value_counts(normalize=True)\n",
    "loan_status_count.plot.pie(colors=['green', 'blue'], autopct=\"%.2f%%\",explode = [0,0.1],ax=ax[1])\n",
    "plt.title('% of anaemia')\n",
    "plt.show()"
   ]
  },
  {
   "cell_type": "markdown",
   "metadata": {},
   "source": [
    "პროცენტულად ძალიან მცირე განსხვავებაა, რაც დასწავლისთვის გამოსადეგი იქნება. ეს ფიჩერი საკმაოდ დაბალანსებულია.\n"
   ]
  },
  {
   "cell_type": "code",
   "execution_count": 9,
   "metadata": {},
   "outputs": [
    {
     "data": {
      "image/png": "[encoded data removed]",
      "text/plain": [
       "<Figure size 720x432 with 4 Axes>"
      ]
     },
     "metadata": {},
     "output_type": "display_data"
    }
   ],
   "source": [
    "plt.figure(1,figsize=(16,7))\n",
    "\n",
    "plt.subplot(221)\n",
    "data['diabetes'].value_counts().plot.pie(title='% distribution of diabetes',figsize=(10,6),colors=['brown', 'gold'],autopct=\"%0.1f\",explode=[0,.1])\n",
    "\n",
    "plt.subplot(222)\n",
    "data['high_blood_pressure'].value_counts().plot.pie(title='% distribution of high_blood_pressure',colors=['brown', 'gold'],autopct=\"%0.1f\",explode=[0,.1])\n",
    "\n",
    "plt.subplot(223)\n",
    "data['smoking'].value_counts().plot.pie(title='% distribution of smoking',colors=['brown', 'gold'],autopct=\"%0.1f\",explode=[0,.1])\n",
    "\n",
    "plt.subplot(224)\n",
    "data['sex'].value_counts().plot.pie(title='% distribution of sex',colors=['brown', 'gold'],autopct=\"%0.1f\",explode=[0,.1])\n",
    "plt.show()"
   ]
  },
  {
   "cell_type": "markdown",
   "metadata": {},
   "source": [
    "აქაც ჩანს რომ დიაბეტის ქონდა არ ქონა მონაცემებში თანაბრადაა თითქმის განაწილებული, ანუ დაბალანსებულია, თუმცა დანარჩენი სამი არც ისე თანაბრადაა (ნაკლებადაა დაბალანსებული), თუმცა თითოეული 30%-ზე მეტია.\n",
    "ეს ფაქტორი საგულისხმო(საბედისწეროც) შეიძლება გახდეს test და train ნაწილებად დაყოფის დროს.\n"
   ]
  },
  {
   "cell_type": "code",
   "execution_count": 10,
   "metadata": {},
   "outputs": [
    {
     "name": "stdout",
     "output_type": "stream",
     "text": [
      "0.42306190672863536\n"
     ]
    },
    {
     "data": {
      "image/png": "[encoded data removed]",
      "text/plain": [
       "<Figure size 1152x360 with 2 Axes>"
      ]
     },
     "metadata": {},
     "output_type": "display_data"
    }
   ],
   "source": [
    "plt.figure(1,figsize=(16,5))\n",
    "plt.subplot(121)\n",
    "print(data['age'].skew())\n",
    "data['age'].hist();\n",
    "plt.subplot(122)\n",
    "sns.boxplot(data['age'],color='c')\n",
    "fig = plt.gcf()\n",
    "plt.tight_layout()"
   ]
  },
  {
   "cell_type": "markdown",
   "metadata": {},
   "source": [
    "* ასაკის skew-ness არის მარცხნივ 0.42306190672863536 ამდენით.\n",
    "* არ შეიცავს outlier-ებს რაც კარგია.\n",
    "* უმეტესობა მონაცემებისა დაახლობით ახლოსაა 60-თან.\n",
    "* ამის მიზეზი შეიძლება სავარაუდოდ ისაა, რომ 70-ზე მეტი ასაკის მოსახლეობა უფრო ცოტაა (მერე ცოტა ცოცხლობს უფრო)\n",
    "* ასევე შევამჩნევთ რომ 40 არის მინიმალური, ამის მიზეზი ისაა რომ ანემია არ აწუხებთ ახალგაზრდებს.\n",
    "\n"
   ]
  },
  {
   "cell_type": "code",
   "execution_count": 11,
   "metadata": {},
   "outputs": [
    {
     "name": "stdout",
     "output_type": "stream",
     "text": [
      "4.463110084653752\n"
     ]
    },
    {
     "data": {
      "image/png": "[encoded data removed]",
      "text/plain": [
       "<Figure size 1152x360 with 2 Axes>"
      ]
     },
     "metadata": {},
     "output_type": "display_data"
    }
   ],
   "source": [
    "plt.figure(1,figsize=(16,5))\n",
    "plt.subplot(121)\n",
    "print(data['creatinine_phosphokinase'].skew())\n",
    "data['creatinine_phosphokinase'].hist();\n",
    "plt.subplot(122)\n",
    "sns.boxplot(data['creatinine_phosphokinase'],color='c')\n",
    "fig = plt.gcf()\n",
    "plt.tight_layout()"
   ]
  },
  {
   "cell_type": "markdown",
   "metadata": {},
   "source": [
    "* creatinine_phosphokinase-is skew-ness არის მარცხნივ 4.463110084653752, რაც გამოსასწორებელია (დიაგრამაშიც კი ეტყობოდა).\n",
    "* შეიცავს დიდი რაოდენობით outlier-ებს რაც ცუდია.\n",
    "* უმეტესობა მონაცემებისა დაახლობით ახლოსაა 200-250-თან (ამ დროს საშუალო ორჯერ მეტია) :(.\n",
    "* log transformation-შეგვიძლია გამოვიყენოთ ამ დროს და skewness-საც გავაქრობ.\n",
    "პ.ს. log transformation` is a convenient means of transforming a highly skewed variable into a more normalized dataset.\n"
   ]
  },
  {
   "cell_type": "code",
   "execution_count": 12,
   "metadata": {},
   "outputs": [
    {
     "name": "stdout",
     "output_type": "stream",
     "text": [
      "0.5553827516973211\n"
     ]
    },
    {
     "data": {
      "image/png": "[encoded data removed]",
      "text/plain": [
       "<Figure size 1152x360 with 2 Axes>"
      ]
     },
     "metadata": {},
     "output_type": "display_data"
    }
   ],
   "source": [
    "plt.figure(1,figsize=(16,5))\n",
    "plt.subplot(121)\n",
    "print(data['ejection_fraction'].skew())\n",
    "data['ejection_fraction'].hist();\n",
    "plt.subplot(122)\n",
    "sns.boxplot(data['ejection_fraction'],color='c')\n",
    "fig = plt.gcf()\n",
    "plt.tight_layout()"
   ]
  },
  {
   "cell_type": "markdown",
   "metadata": {},
   "source": [
    "* ejection_fraction-ის skew-ness არის მარცხნივ 0.5553827516973211 ამდენით.\n",
    "* შეიცავს outlier-ებს რამდენიმეს მხოლოდ.\n",
    "* უმეტესობა მონაცემებისაა დაახლობით ახლოსაა 36-თან.\n",
    "\n"
   ]
  },
  {
   "cell_type": "code",
   "execution_count": 13,
   "metadata": {},
   "outputs": [
    {
     "name": "stdout",
     "output_type": "stream",
     "text": [
      "1.4623208382757793\n"
     ]
    },
    {
     "data": {
      "image/png": "[encoded data removed]",
      "text/plain": [
       "<Figure size 1152x360 with 2 Axes>"
      ]
     },
     "metadata": {},
     "output_type": "display_data"
    }
   ],
   "source": [
    "plt.figure(1,figsize=(16,5))\n",
    "plt.subplot(121)\n",
    "print(data['platelets'].skew())\n",
    "data['platelets'].hist();\n",
    "plt.subplot(122)\n",
    "sns.boxplot(data['platelets'],color='c')\n",
    "fig = plt.gcf()\n",
    "plt.tight_layout()"
   ]
  },
  {
   "cell_type": "markdown",
   "metadata": {},
   "source": [
    "* platelets-ის skew-ness არის მარცხნივ 1.4623208382757793 ამდენით.\n",
    "* შეიცავს outlier-ებს ბევრს, როგორც მარცხნიდან ისე მარჯვნიდან.\n",
    "* უმეტესობა მონაცემებისაა დაახლობით ახლოსაა 230000-თან.\n",
    "* მონაცემები მარცხნივაა გადახრილი.\n",
    "\n"
   ]
  },
  {
   "cell_type": "code",
   "execution_count": 14,
   "metadata": {},
   "outputs": [
    {
     "name": "stdout",
     "output_type": "stream",
     "text": [
      "4.455995882049026\n"
     ]
    },
    {
     "data": {
      "image/png": "[encoded data removed]",
      "text/plain": [
       "<Figure size 1152x360 with 2 Axes>"
      ]
     },
     "metadata": {},
     "output_type": "display_data"
    }
   ],
   "source": [
    "plt.figure(1,figsize=(16,5))\n",
    "plt.subplot(121)\n",
    "print(data['serum_creatinine'].skew())\n",
    "data['serum_creatinine'].hist();\n",
    "plt.subplot(122)\n",
    "sns.boxplot(data['serum_creatinine'],color='c')\n",
    "fig = plt.gcf()\n",
    "plt.tight_layout()"
   ]
  },
  {
   "cell_type": "markdown",
   "metadata": {},
   "source": [
    "* serum_creatinine-ის skew-ness არის მარცხნივ 4.455995882049026 ამდენით, რაც აუცილებრად გამოსასწორებელია.\n",
    "* შეიცავს outlier-ებს ბევრს მარჯვნიდან.\n",
    "* უმეტესობა მონაცემებისაა დაახლობით ახლოსაა 1-თან.\n",
    "\n"
   ]
  },
  {
   "cell_type": "code",
   "execution_count": 15,
   "metadata": {},
   "outputs": [
    {
     "name": "stdout",
     "output_type": "stream",
     "text": [
      "-1.0481360160574988\n"
     ]
    },
    {
     "data": {
      "image/png": "[encoded data removed]",
      "text/plain": [
       "<Figure size 1152x360 with 2 Axes>"
      ]
     },
     "metadata": {},
     "output_type": "display_data"
    }
   ],
   "source": [
    "plt.figure(1,figsize=(16,5))\n",
    "plt.subplot(121)\n",
    "print(data['serum_sodium'].skew())\n",
    "data['serum_sodium'].hist();\n",
    "plt.subplot(122)\n",
    "sns.boxplot(data['serum_sodium'],color='c')\n",
    "fig = plt.gcf()\n",
    "plt.tight_layout()"
   ]
  },
  {
   "cell_type": "markdown",
   "metadata": {},
   "source": [
    "* serum_creatinine-ის skew-ness არის მარჯვნივ -1.0481360160574988 ამდენით.\n",
    "* შეიცავს outlier-ებს რამდენიმე მარცხნიდან.\n",
    "* უმეტესობა მონაცემებისაა დაახლობით ახლოსაა 137-თან.\n"
   ]
  },
  {
   "cell_type": "code",
   "execution_count": 16,
   "metadata": {},
   "outputs": [
    {
     "name": "stdout",
     "output_type": "stream",
     "text": [
      "0.12780264559841184\n"
     ]
    },
    {
     "data": {
      "image/png": "[encoded data removed]",
      "text/plain": [
       "<Figure size 1152x360 with 2 Axes>"
      ]
     },
     "metadata": {},
     "output_type": "display_data"
    }
   ],
   "source": [
    "plt.figure(1,figsize=(16,5))\n",
    "plt.subplot(121)\n",
    "print(data['time'].skew())\n",
    "data['time'].hist();\n",
    "plt.subplot(122)\n",
    "sns.boxplot(data['time'],color='c')\n",
    "fig = plt.gcf()\n",
    "plt.tight_layout()"
   ]
  },
  {
   "cell_type": "markdown",
   "metadata": {},
   "source": [
    "* serum_creatinine-ის skew-ness არის მარცხნივ 0.12780264559841184 ამდენით.\n",
    "* არ შეიცავს outlier-ებს.\n",
    "* მონაცემები დაუდგენლადაა გაფანტული. ჩანს არაა დრო რაიმე ინფორმაციის მატარებელი. ეს დასადროპია."
   ]
  },
  {
   "cell_type": "markdown",
   "metadata": {},
   "source": [
    "--------------------------------------------------------------------------------------------------------------------------------\n",
    "# ეტაპი 5: \n",
    "## ბივარიანტული ანალიზი (Bivariate Analysis)\n"
   ]
  },
  {
   "cell_type": "markdown",
   "metadata": {},
   "source": [
    "# - კატეგორიული ფიჩერები & TARGET"
   ]
  },
  {
   "cell_type": "code",
   "execution_count": 17,
   "metadata": {},
   "outputs": [
    {
     "data": {
      "image/png": "[encoded data removed]",
      "text/plain": [
       "<Figure size 576x2160 with 5 Axes>"
      ]
     },
     "metadata": {},
     "output_type": "display_data"
    }
   ],
   "source": [
    "target = 'DEATH_EVENT'\n",
    "cat_cols_ = cat_cols[:len(cat_cols)-1]\n",
    "fig,ax = plt.subplots(len(cat_cols_),1,figsize=(8,6*len(cat_cols_)))\n",
    "\n",
    "for i,col in enumerate(cat_cols_):\n",
    "    pd.crosstab(data[col],data[target])\n",
    "    ct = pd.crosstab(data[col],data[target],normalize=\"index\")\n",
    "    ct.plot.barh(stacked=True,ax=ax[i])\n",
    "    \n",
    "plt.show()"
   ]
  },
  {
   "cell_type": "markdown",
   "metadata": {},
   "source": [
    "აქედან ჩანს რომ ფაქტობრივად არაა სიკვდილის გამომწვევი (მასზე არაა დამოკიდებული) მიზეზი დიაბეტი, სქესი, მოწევა.\n",
    "ხოლო სიკვდილიანობა ჩანს რომ უფრო ხშირია (ანუ ამ ფაქტორებზეა დამოკიდებული):\n",
    "    * ანემიისას\n",
    "    * მაღალი წნევისას"
   ]
  },
  {
   "cell_type": "markdown",
   "metadata": {},
   "source": [
    "# - რიცხვითი ფიჩერები & TARGET"
   ]
  },
  {
   "cell_type": "markdown",
   "metadata": {},
   "source": [
    "უბრალოდ კოროლაციის დათვლა ცოტა მოუხერხებელი იქნება. გასაანალიზებლად, აღსაქმელად რთული (ნაკლებად დავინახავთ წრფე რამდენად დახირილია თუ არაა).\n",
    "ამიტომ დავპინოთ!!!\n",
    "- დაბალი, მედიუმი, მაღალი"
   ]
  },
  {
   "cell_type": "code",
   "execution_count": 18,
   "metadata": {},
   "outputs": [],
   "source": [
    "groups = ['Low','Medium','High']\n",
    "\n",
    "def get_categories(x):\n",
    "    if x < q1:\n",
    "        return groups[0]\n",
    "    elif x < q3:\n",
    "        return groups[1]\n",
    "    else:\n",
    "        return groups[2]    \n",
    "\n",
    "for col_name in num_cols:\n",
    "    q1 = data[col_name].quantile(q=0.25)\n",
    "    q3 = data[col_name].quantile(q=0.75)\n",
    "    data[col_name+'_cat'] = data[col_name].apply(get_categories)"
   ]
  },
  {
   "cell_type": "markdown",
   "metadata": {},
   "source": [
    "### - age"
   ]
  },
  {
   "cell_type": "code",
   "execution_count": 19,
   "metadata": {},
   "outputs": [
    {
     "data": {
      "image/png": "[encoded data removed]",
      "text/plain": [
       "<Figure size 1152x360 with 1 Axes>"
      ]
     },
     "metadata": {},
     "output_type": "display_data"
    },
    {
     "name": "stdout",
     "output_type": "stream",
     "text": [
      "DEATH_EVENT         0         1\n",
      "age_cat                        \n",
      "High         0.506494  0.493506\n",
      "Low          0.743243  0.256757\n",
      "Medium       0.736486  0.263514\n"
     ]
    },
    {
     "data": {
      "image/png": "[encoded data removed]",
      "text/plain": [
       "<Figure size 432x288 with 1 Axes>"
      ]
     },
     "metadata": {},
     "output_type": "display_data"
    }
   ],
   "source": [
    "plt.figure(1,figsize=(16,5))\n",
    "plt.subplot(121)\n",
    "data.groupby(target)['age'].mean().plot.bar()\n",
    "plt.show()\n",
    "cross = pd.crosstab(data['age_cat'],data[target],normalize=\"index\")\n",
    "print(cross)\n",
    "cross.plot.bar(stacked=True);"
   ]
  },
  {
   "cell_type": "markdown",
   "metadata": {},
   "source": [
    "1. მცირედი სხვაობა არის სიკვდილის ივენთსა და არა სიკვდილის ივენთის საშუალო ასაკებს შორის.\n",
    "   აშკარაა რომ საშუალოდ რაც უფრო ასაკოვანია Death-ის უფრო მეტი შანსია.\n",
    "2. აქაც ჩანს რომ როცა ასაკი დიდია აშკარად უფრო მეტი შანსია სიკვდილისა, შედარებით დანარჩენი ასაკებისა."
   ]
  },
  {
   "cell_type": "markdown",
   "metadata": {},
   "source": [
    "## - creatinine_phosphokinase"
   ]
  },
  {
   "cell_type": "code",
   "execution_count": 20,
   "metadata": {},
   "outputs": [
    {
     "data": {
      "image/png": "[encoded data removed]",
      "text/plain": [
       "<Figure size 1152x360 with 1 Axes>"
      ]
     },
     "metadata": {},
     "output_type": "display_data"
    },
    {
     "name": "stdout",
     "output_type": "stream",
     "text": [
      "DEATH_EVENT                          0         1\n",
      "creatinine_phosphokinase_cat                    \n",
      "High                          0.693694  0.306306\n",
      "Low                           0.746667  0.253333\n",
      "Medium                        0.619469  0.380531\n"
     ]
    },
    {
     "data": {
      "image/png": "[encoded data removed]",
      "text/plain": [
       "<Figure size 432x288 with 1 Axes>"
      ]
     },
     "metadata": {},
     "output_type": "display_data"
    }
   ],
   "source": [
    "plt.figure(1,figsize=(16,5))\n",
    "plt.subplot(121)\n",
    "data.groupby(target)['creatinine_phosphokinase'].mean().plot.bar()\n",
    "plt.show()\n",
    "cross = pd.crosstab(data['creatinine_phosphokinase_cat'],data[target],normalize=\"index\")\n",
    "print(cross)\n",
    "cross.plot.bar(stacked=True);"
   ]
  },
  {
   "cell_type": "markdown",
   "metadata": {},
   "source": [
    "1. პირველიდან ჩანს რომ creatinine_phosphokinase საშუალოდ რაც უდრო მეტია მით უფრო მეტი შანსია სიკვდილისიც.\n",
    "2. ჩანს რომ როცა დაბალია მისი მაჩვენებელი სიკვდილის შესაძლლებლობაც ნაკლებია. ასევე თითქოს მაღალის დროსაც დაბალია სიკვდილის შანსი."
   ]
  },
  {
   "cell_type": "markdown",
   "metadata": {},
   "source": [
    "## - ejection_fraction"
   ]
  },
  {
   "cell_type": "code",
   "execution_count": 21,
   "metadata": {},
   "outputs": [
    {
     "data": {
      "image/png": "[encoded data removed]",
      "text/plain": [
       "<Figure size 1152x360 with 1 Axes>"
      ]
     },
     "metadata": {},
     "output_type": "display_data"
    },
    {
     "name": "stdout",
     "output_type": "stream",
     "text": [
      "DEATH_EVENT                   0         1\n",
      "ejection_fraction_cat                    \n",
      "High                   0.762500  0.237500\n",
      "Low                    0.355932  0.644068\n",
      "Medium                 0.756250  0.243750\n"
     ]
    },
    {
     "data": {
      "image/png": "[encoded data removed]",
      "text/plain": [
       "<Figure size 432x288 with 1 Axes>"
      ]
     },
     "metadata": {},
     "output_type": "display_data"
    }
   ],
   "source": [
    "plt.figure(1,figsize=(16,5))\n",
    "plt.subplot(121)\n",
    "data.groupby(target)['ejection_fraction'].mean().plot.bar()\n",
    "plt.show()\n",
    "cross = pd.crosstab(data['ejection_fraction_cat'],data[target],normalize=\"index\")\n",
    "print(cross)\n",
    "cross.plot.bar(stacked=True);"
   ]
  },
  {
   "cell_type": "markdown",
   "metadata": {},
   "source": [
    "1. ჩანს საშუალოდ რაც უფრო ბევრია ejection_fraction, მით მეტია შანსი \"კარგად ყოფნის\"\n",
    "2. მეორე კატეგორიზაციად დაყოფილი დიაგრამაც მაგას აჩვენებს, რომ როცა ejection_fraction არაა ცოტა (ლოუ) მაშინ ნაკლებია სიკვდილის მაჩვენებელი."
   ]
  },
  {
   "cell_type": "markdown",
   "metadata": {},
   "source": [
    "## - platelets"
   ]
  },
  {
   "cell_type": "code",
   "execution_count": 22,
   "metadata": {},
   "outputs": [
    {
     "data": {
      "image/png": "[encoded data removed]",
      "text/plain": [
       "<Figure size 1152x360 with 1 Axes>"
      ]
     },
     "metadata": {},
     "output_type": "display_data"
    },
    {
     "name": "stdout",
     "output_type": "stream",
     "text": [
      "DEATH_EVENT           0         1\n",
      "platelets_cat                    \n",
      "High           0.653333  0.346667\n",
      "Low            0.600000  0.400000\n",
      "Medium         0.731544  0.268456\n"
     ]
    },
    {
     "data": {
      "image/png": "[encoded data removed]",
      "text/plain": [
       "<Figure size 432x288 with 1 Axes>"
      ]
     },
     "metadata": {},
     "output_type": "display_data"
    }
   ],
   "source": [
    "plt.figure(1,figsize=(16,5))\n",
    "plt.subplot(121)\n",
    "data.groupby(target)['platelets'].mean().plot.bar()\n",
    "plt.show()\n",
    "cross = pd.crosstab(data['platelets_cat'],data[target],normalize=\"index\")\n",
    "print(cross)\n",
    "cross.plot.bar(stacked=True);"
   ]
  },
  {
   "cell_type": "markdown",
   "metadata": {},
   "source": [
    "1. დიდი განსხვავება არაა საშუალოებს შორის და არც კატეგორიზაციით შეიმჩნევა მკვეთრად.\n",
    "2. ნუ შეიძლება არის მცირე ტენდენცია, რომ რაც უფრო მაღალია platelets, მით ნაკლებია სიკვდილის შედეგი."
   ]
  },
  {
   "cell_type": "markdown",
   "metadata": {},
   "source": [
    "## - serum_creatinine"
   ]
  },
  {
   "cell_type": "code",
   "execution_count": 23,
   "metadata": {},
   "outputs": [
    {
     "data": {
      "image/png": "[encoded data removed]",
      "text/plain": [
       "<Figure size 1152x360 with 1 Axes>"
      ]
     },
     "metadata": {},
     "output_type": "display_data"
    },
    {
     "name": "stdout",
     "output_type": "stream",
     "text": [
      "DEATH_EVENT                  0         1\n",
      "serum_creatinine_cat                    \n",
      "High                  0.419753  0.580247\n",
      "Low                   0.918367  0.081633\n",
      "Medium                0.733728  0.266272\n"
     ]
    },
    {
     "data": {
      "image/png": "[encoded data removed]",
      "text/plain": [
       "<Figure size 432x288 with 1 Axes>"
      ]
     },
     "metadata": {},
     "output_type": "display_data"
    }
   ],
   "source": [
    "plt.figure(1,figsize=(16,5))\n",
    "plt.subplot(121)\n",
    "data.groupby(target)['serum_creatinine'].mean().plot.bar()\n",
    "plt.show()\n",
    "cross = pd.crosstab(data['serum_creatinine_cat'],data[target],normalize=\"index\")\n",
    "print(cross)\n",
    "cross.plot.bar(stacked=True);"
   ]
  },
  {
   "cell_type": "markdown",
   "metadata": {},
   "source": [
    "1. დიდი განსხვავებაა საშუალოებს შორის. რაც მეტია serum_creatinine მით მეტია სიკვდილის შედეგი.\n",
    "2. აშკარა სურათია 1-ის აქაც !!!!"
   ]
  },
  {
   "cell_type": "markdown",
   "metadata": {},
   "source": [
    "## - serum_sodium"
   ]
  },
  {
   "cell_type": "code",
   "execution_count": 24,
   "metadata": {},
   "outputs": [
    {
     "data": {
      "image/png": "[encoded data removed]",
      "text/plain": [
       "<Figure size 1152x360 with 1 Axes>"
      ]
     },
     "metadata": {},
     "output_type": "display_data"
    },
    {
     "name": "stdout",
     "output_type": "stream",
     "text": [
      "DEATH_EVENT              0         1\n",
      "serum_sodium_cat                    \n",
      "High              0.766234  0.233766\n",
      "Low               0.509804  0.490196\n",
      "Medium            0.690058  0.309942\n"
     ]
    },
    {
     "data": {
      "image/png": "[encoded data removed]",
      "text/plain": [
       "<Figure size 432x288 with 1 Axes>"
      ]
     },
     "metadata": {},
     "output_type": "display_data"
    }
   ],
   "source": [
    "f = plt.figure(1,figsize=(16,5))\n",
    "plt.subplot(121)\n",
    "data.groupby(target)['serum_sodium'].mean().plot.bar()\n",
    "plt.show()\n",
    "cross = pd.crosstab(data['serum_sodium_cat'],data[target],normalize=\"index\")\n",
    "print(cross)\n",
    "cross.plot.bar(stacked=True);"
   ]
  },
  {
   "cell_type": "markdown",
   "metadata": {},
   "source": [
    "1. თითქოს საშუალოდ განსხვავება არაა\n",
    "2. მეორედან ჩანს რომ, რაც მეტია serum_sodium მით ნაკლებია სიკვდილის შედეგი."
   ]
  },
  {
   "cell_type": "code",
   "execution_count": 25,
   "metadata": {},
   "outputs": [],
   "source": [
    "# რაც დავამატე ის უნდა წავშალო\n",
    "num_cols_cat=[col+\"_cat\" for col in num_cols]\n",
    "data = data.drop(num_cols_cat, axis=1)"
   ]
  },
  {
   "cell_type": "markdown",
   "metadata": {},
   "source": [
    "# 2. მონაცემთა გარდაქმნა"
   ]
  },
  {
   "cell_type": "markdown",
   "metadata": {},
   "source": [
    "--------------------------------------------------------------------------------------------------------------------------------\n",
    "# ეტაპი 4-ის პასუხი\n"
   ]
  },
  {
   "cell_type": "markdown",
   "metadata": {},
   "source": [
    "ნორმალური განაწილების მიღება გვინდა.\n",
    "-- რადგან ზოგადად რთულია სწავლა ისეთი მონაცემებიდან, რომელსაც არააქვს ან ნორმალური, ან თანაბარი განაწილება.\n",
    "კოვარიაციის შიფტი - ერთი ლეიერის აუთფუთი რომ გამრავლდება შემდეგი ლეიერის პარამეტრებზე, ვარიაცია იზრდება.\n",
    "ვარაცია ბოლოს თუ ძაან გაგვეზარდა, მაშინ ძალიან გაუჭირდება მოდელს სქუიზი გააკეთოს ბოლოს აუთფუთ ლეიერის.\n",
    "\n",
    "- არაპარამეტრული skewness ლექციიდან კარგად ცნობილი ნორმალიზაცია & სკალირების ერთობაა\n",
    "- ხოლო moment coefficient of skewness - E[((X - mean) / variance)**3] -ესაა, ამ შემთხვევაში არ იკარგება ვარიაცია და ამითაა კარგი"
   ]
  },
  {
   "cell_type": "markdown",
   "metadata": {},
   "source": [
    "# -- რიცხვითი ფიჩერების გარდაქმნა"
   ]
  },
  {
   "cell_type": "markdown",
   "metadata": {},
   "source": [
    "1.  for left  skewness, take squares, qubes or higher powers\n",
    "2.  for right skewness, take roots or logarithms or reciprocals (roots are weakest). \n"
   ]
  },
  {
   "cell_type": "markdown",
   "metadata": {},
   "source": [
    "skewness - მეოთხე ეტაპზე გვაქვს გამოთვლილი"
   ]
  },
  {
   "cell_type": "markdown",
   "metadata": {},
   "source": [
    "# - age"
   ]
  },
  {
   "cell_type": "code",
   "execution_count": 26,
   "metadata": {},
   "outputs": [
    {
     "data": {
      "image/png": "[encoded data removed]",
      "text/plain": [
       "<Figure size 720x360 with 2 Axes>"
      ]
     },
     "metadata": {},
     "output_type": "display_data"
    }
   ],
   "source": [
    "n_bins = 20\n",
    "# ax = sns.distplot(train_df[col_name],fit=stats.norm) # -ამით ვერ ავაგე რატომღაც ვარნინგს მიგდებს ვერსიი გამო\n",
    "fig, axs = plt.subplots(1, 2, figsize=(10,5), sharey=True, tight_layout=False)\n",
    "# before\n",
    "axs[0].hist(data[num_cols[0]], bins=n_bins);\n",
    "# data[num_cols[0]] = np.sqrt(data[num_cols[0]])\n",
    "data[num_cols[0]] = np.log(data[num_cols[0]])\n",
    "# after\n",
    "axs[1].hist(data[num_cols[0]], bins=n_bins, color='g');"
   ]
  },
  {
   "cell_type": "markdown",
   "metadata": {},
   "source": [
    "## - creatinine_phosphokinase"
   ]
  },
  {
   "cell_type": "code",
   "execution_count": 27,
   "metadata": {},
   "outputs": [
    {
     "data": {
      "image/png": "[encoded data removed]",
      "text/plain": [
       "<Figure size 720x360 with 2 Axes>"
      ]
     },
     "metadata": {},
     "output_type": "display_data"
    }
   ],
   "source": [
    "fig, axs = plt.subplots(1, 2, figsize=(10,5), sharey=True, tight_layout=False)\n",
    "# before\n",
    "axs[0].hist(data[num_cols[1]], bins=n_bins);\n",
    "data[num_cols[1]] = np.log(data[num_cols[1]])\n",
    "# data[num_cols[1]] = np.log1p(data[num_cols[1]])\n",
    "# after\n",
    "axs[1].hist(data[num_cols[1]], bins=n_bins, color='g');"
   ]
  },
  {
   "cell_type": "markdown",
   "metadata": {},
   "source": [
    "# - ejection_fraction"
   ]
  },
  {
   "cell_type": "code",
   "execution_count": 28,
   "metadata": {},
   "outputs": [
    {
     "data": {
      "image/png": "[encoded data removed]",
      "text/plain": [
       "<Figure size 720x360 with 2 Axes>"
      ]
     },
     "metadata": {},
     "output_type": "display_data"
    }
   ],
   "source": [
    "fig, axs = plt.subplots(1, 2, figsize=(10,5), sharey=True, tight_layout=False)\n",
    "# before\n",
    "axs[0].hist(data[num_cols[2]], bins=n_bins);\n",
    "data[num_cols[2]] = np.sqrt(data[num_cols[2]])\n",
    "# data[num_cols[2]] = np.log1p(data[num_cols[2]])\n",
    "# after\n",
    "axs[1].hist(data[num_cols[2]], bins=n_bins, color='g');"
   ]
  },
  {
   "cell_type": "markdown",
   "metadata": {},
   "source": [
    "ეს შედეგი მონაცემების ნაკლებობის ბრალია."
   ]
  },
  {
   "cell_type": "markdown",
   "metadata": {},
   "source": [
    "# - platelets"
   ]
  },
  {
   "cell_type": "code",
   "execution_count": 29,
   "metadata": {},
   "outputs": [
    {
     "data": {
      "image/png": "[encoded data removed]",
      "text/plain": [
       "<Figure size 720x360 with 2 Axes>"
      ]
     },
     "metadata": {},
     "output_type": "display_data"
    }
   ],
   "source": [
    "fig, axs = plt.subplots(1, 2, figsize=(10,5), sharey=True, tight_layout=False)\n",
    "# before\n",
    "axs[0].hist(data[num_cols[3]], bins=n_bins);\n",
    "data[num_cols[3]] = np.log(data[num_cols[3]])\n",
    "# data[num_cols[3]] = np.log1p(data[num_cols[3]])\n",
    "# after\n",
    "axs[1].hist(data[num_cols[3]], bins=n_bins, color='g');"
   ]
  },
  {
   "cell_type": "markdown",
   "metadata": {},
   "source": [
    "# - serum_creatinine"
   ]
  },
  {
   "cell_type": "code",
   "execution_count": 30,
   "metadata": {},
   "outputs": [
    {
     "data": {
      "image/png": "[encoded data removed]",
      "text/plain": [
       "<Figure size 720x360 with 2 Axes>"
      ]
     },
     "metadata": {},
     "output_type": "display_data"
    }
   ],
   "source": [
    "fig, axs = plt.subplots(1, 2, figsize=(10,5), sharey=True, tight_layout=False)\n",
    "# before\n",
    "axs[0].hist(data[num_cols[4]], bins=n_bins);\n",
    "data[num_cols[4]] = np.log(data[num_cols[4]])\n",
    "# data[num_cols[4]] = np.log1p(data[num_cols[4]])\n",
    "# after\n",
    "axs[1].hist(data[num_cols[4]], bins=n_bins, color='g');"
   ]
  },
  {
   "cell_type": "markdown",
   "metadata": {},
   "source": [
    "# - serum_sodium"
   ]
  },
  {
   "cell_type": "code",
   "execution_count": 31,
   "metadata": {},
   "outputs": [
    {
     "data": {
      "image/png": "[encoded data removed]",
      "text/plain": [
       "<Figure size 720x360 with 2 Axes>"
      ]
     },
     "metadata": {},
     "output_type": "display_data"
    }
   ],
   "source": [
    "fig, axs = plt.subplots(1, 2, figsize=(10,5), sharey=True, tight_layout=False)\n",
    "# before\n",
    "axs[0].hist(data[num_cols[5]], bins=n_bins);\n",
    "data[num_cols[5]] = np.power(data[num_cols[5]], 5)\n",
    "# after\n",
    "axs[1].hist(data[num_cols[5]], bins=n_bins, color='g');"
   ]
  },
  {
   "cell_type": "markdown",
   "metadata": {},
   "source": [
    "# - time"
   ]
  },
  {
   "cell_type": "code",
   "execution_count": 32,
   "metadata": {},
   "outputs": [],
   "source": [
    "# თაიმს ვაიგნორებთ\n",
    "data=data.drop(['time'],axis=1)\n",
    "num_cols.remove('time')"
   ]
  },
  {
   "cell_type": "markdown",
   "metadata": {},
   "source": [
    "-- დამატებით სკალირების ეს მეთოდიც გამოვიყენოთ (ამით თავს იმასაც ავარიდებ რომ log-ში ნოლები ჩამჯდარიყო)."
   ]
  },
  {
   "cell_type": "markdown",
   "metadata": {},
   "source": [
    "### -- normalize\n",
    "შევნიშნავდით, რომ რიცხვით ცვლადებს აქვთ არანულოვანი მნიშვნელობები, ასევე მათი საშუალო არაა 1-თან. ეს შეგვიძლია გამოვასწოროთ ნორმალიზაცია, სკალირებით.\n",
    "ამგვარად თავიდან ავიცილებთ მონაცემების მნიშვნელობების უცაბედ ზრდებს."
   ]
  },
  {
   "cell_type": "code",
   "execution_count": 33,
   "metadata": {},
   "outputs": [],
   "source": [
    "for i in num_cols:\n",
    "    min_val=min(data[i])\n",
    "    max_val=max(data[i])\n",
    "    data[i]=data[i].apply(lambda a: (a-min_val)/(max_val-min_val))\n",
    "for i in num_cols:\n",
    "    data[i]=data[i].apply(lambda a: (a-np.mean(data[i]))/np.std(data[i]))"
   ]
  },
  {
   "cell_type": "markdown",
   "metadata": {},
   "source": [
    "# -- კატეგორიული ფიჩერების გარდაქმნა"
   ]
  },
  {
   "cell_type": "markdown",
   "metadata": {},
   "source": [
    "შედარებით დაუბალანსებელი ფიჩერებისთვის არსებობს რამდენიმე მიდგომა (მონაცემების გამრავლება და ჩამატება...). ჩვენ არ გვინდა რადგან საკმაოდ ნორმალურად იყო მონაცემები მოცემული 30% მეტი მაინც იყო უმცირესობა (mild არიიიიის ყველა!!!!!)."
   ]
  },
  {
   "cell_type": "markdown",
   "metadata": {},
   "source": [
    "--------------------------------------------------------------------------------------------------------------------------------\n",
    "# ეტაპი 5-ის მხარის აბმა\n"
   ]
  },
  {
   "cell_type": "markdown",
   "metadata": {},
   "source": [
    "# -- კოროლაციის მატრიცი"
   ]
  },
  {
   "cell_type": "code",
   "execution_count": 34,
   "metadata": {},
   "outputs": [
    {
     "data": {
      "image/png": "[encoded data removed]",
      "text/plain": [
       "<Figure size 864x864 with 2 Axes>"
      ]
     },
     "metadata": {},
     "output_type": "display_data"
    }
   ],
   "source": [
    "f, ax = plt.subplots(figsize=(12,12))\n",
    "sns.heatmap(data.corr(),annot=True, linewidths=.5, ax=ax)\n",
    "plt.show()"
   ]
  },
  {
   "cell_type": "markdown",
   "metadata": {},
   "source": [
    "კოროლაციის მატრიცა გვიჩვენებს ურთიერთდამოკიდებულებას ფიჩერებს შორის. ეს შეიძლება გამოსადეგი იყოს მოდელის დროს. თუ კოროლაცია ახლოა და ძლიერი, ანუ მას უნდა ქონდეს გავლენა ჩვენს მოდელშიც. ამ შემთხვევაში ჩვენთვის მიშვნელოვანია სიკვდილის შედეგის დამოკიდებულება დანარჩენ ფიჩერებთან. ავიღოთ რომ თუ კოროლაცია > 0.1, ეს ფიჩერები შეიძლება იყოს მნიშვნელოვანი."
   ]
  },
  {
   "cell_type": "code",
   "execution_count": 35,
   "metadata": {},
   "outputs": [
    {
     "data": {
      "text/plain": [
       "age                  0.240235\n",
       "ejection_fraction    0.294260\n",
       "serum_creatinine     0.360301\n",
       "serum_sodium         0.189253\n",
       "DEATH_EVENT          1.000000\n",
       "Name: DEATH_EVENT, dtype: float64"
      ]
     },
     "execution_count": 35,
     "metadata": {},
     "output_type": "execute_result"
    }
   ],
   "source": [
    "cor = data.corr() \n",
    "corr_target = abs(cor[\"DEATH_EVENT\"])\n",
    "relevant_features = corr_target[corr_target>0.1]\n",
    "relevant_features"
   ]
  },
  {
   "cell_type": "markdown",
   "metadata": {},
   "source": [
    "-- ზუსტად ეს ფაქტი კარგად ჩანდა ჩვენს ყოველ ეტაპზე, განსაკუთრებით 1 ნაბიჯის (მონაცემთა ანალიზი) მე-5 ეტაპზე!!!"
   ]
  },
  {
   "cell_type": "markdown",
   "metadata": {},
   "source": [
    "--------------------------------------------------------------------------------------------------------------------------------\n",
    "# ეტაპი 3-ის პასუხი\n"
   ]
  },
  {
   "cell_type": "code",
   "execution_count": 36,
   "metadata": {},
   "outputs": [
    {
     "data": {
      "text/plain": [
       "age                         float64\n",
       "anaemia                        int8\n",
       "creatinine_phosphokinase    float64\n",
       "diabetes                       int8\n",
       "ejection_fraction           float64\n",
       "high_blood_pressure            int8\n",
       "platelets                   float64\n",
       "serum_creatinine            float64\n",
       "serum_sodium                float64\n",
       "sex                            int8\n",
       "smoking                        int8\n",
       "DEATH_EVENT                    int8\n",
       "dtype: object"
      ]
     },
     "execution_count": 36,
     "metadata": {},
     "output_type": "execute_result"
    }
   ],
   "source": [
    "# კატეგორიული ცვლადების შემთხვევაში ჩანდა რომ დიდი მეხსიერება იყო გამოყოფილი, \n",
    "# რასაც შევამცირებ (ეს ეტაპი აქ, მცირე მონაცემების დროს) არაა სავალდებულო\n",
    "dic = {}\n",
    "for col in cat_cols:\n",
    "    dic[col] = 'int8'\n",
    "data.astype(dic).dtypes"
   ]
  },
  {
   "cell_type": "markdown",
   "metadata": {},
   "source": [
    "--------------------------------------------------------------------------------------------------------------------------------"
   ]
  },
  {
   "cell_type": "markdown",
   "metadata": {},
   "source": [
    "# - Baseline model"
   ]
  },
  {
   "cell_type": "code",
   "execution_count": 37,
   "metadata": {},
   "outputs": [
    {
     "data": {
      "text/plain": [
       "((299, 12), (12,), (299, 1))"
      ]
     },
     "execution_count": 37,
     "metadata": {},
     "output_type": "execute_result"
    }
   ],
   "source": [
    "# 1-იანების სვეტი ალგორითმის სწორად სამუშაოდ (თავისუფალი წევრი რომ გაჩნდეს პოლინომიალურ განტოლებაში)\n",
    "data.insert(0, 'Ones', 1)\n",
    "\n",
    "# X (training data) and y (target variable)\n",
    "cols = data.shape[1]\n",
    "X = data.iloc[:,0:cols-1]\n",
    "y = data.iloc[:,cols-1:cols]\n",
    "\n",
    "# მონაცემების მასივად წარმოდგენა, და საწყისი თეტა მასივის ინიციალიზაცია\n",
    "X = np.array(X.values)\n",
    "y = np.array(y.values)\n",
    "theta = np.zeros(cols - 1)\n",
    "\n",
    "X.shape, theta.shape, y.shape"
   ]
  },
  {
   "cell_type": "markdown",
   "metadata": {},
   "source": [
    "### - ეტაპი 1-ის პასუხი"
   ]
  },
  {
   "cell_type": "markdown",
   "metadata": {},
   "source": [
    "სფლითის მეშვეობით ტრეინინგ სეტსა და ტესტ სეტს ერთმანეთისგან ვყოფთ.\n",
    "რადგან ამ შემთხვევაში მონაცემები ცოტაა, ამიტომ 25% ვტოვებ ტესტირებისთვის.\n",
    "random_state მონაცემებს ანაცვლებს, თუ რევს, გაუმჯობესებისთვის დაიმახსოვრე"
   ]
  },
  {
   "cell_type": "code",
   "execution_count": 38,
   "metadata": {},
   "outputs": [
    {
     "name": "stdout",
     "output_type": "stream",
     "text": [
      "Train distribution\n",
      "0.31020408163265306\n",
      "\n",
      "\n",
      "Test distribution\n",
      "0.37037037037037035\n"
     ]
    }
   ],
   "source": [
    "from sklearn.model_selection import train_test_split\n",
    "x_train, x_test, y_train, y_test = train_test_split(X, y, test_size = 0.18, random_state = 0)\n",
    "print(\"Train distribution\",y_train.mean(), \"\\n\",sep=\"\\n\")\n",
    "print(\"Test distribution\",y_test.mean(),sep=\"\\n\")"
   ]
  },
  {
   "cell_type": "markdown",
   "metadata": {},
   "source": [
    "შესაძლებელი oversampling - ის ცდა ---- smoke ალგორითმი"
   ]
  },
  {
   "cell_type": "code",
   "execution_count": 39,
   "metadata": {},
   "outputs": [
    {
     "data": {
      "text/plain": [
       "((245, 12), (12,), (245, 1))"
      ]
     },
     "execution_count": 39,
     "metadata": {},
     "output_type": "execute_result"
    }
   ],
   "source": [
    "x_train.shape, theta.shape, y_train.shape"
   ]
  },
  {
   "cell_type": "markdown",
   "metadata": {},
   "source": [
    "# 3. მოდელის იმპლემენტაცია"
   ]
  },
  {
   "cell_type": "code",
   "execution_count": 40,
   "metadata": {},
   "outputs": [],
   "source": [
    "accuracy_list = {}"
   ]
  },
  {
   "cell_type": "markdown",
   "metadata": {},
   "source": [
    "### --- სიზუსტის მთვლელი (ზოგადად გამოსადეგი მეთოდები)"
   ]
  },
  {
   "cell_type": "code",
   "execution_count": 41,
   "metadata": {},
   "outputs": [],
   "source": [
    "def predict(theta, X):\n",
    "    probability = sigmoid(X * theta.T)\n",
    "    return [1 if x >= 0.5 else 0 for x in probability]"
   ]
  },
  {
   "cell_type": "code",
   "execution_count": 42,
   "metadata": {},
   "outputs": [],
   "source": [
    "from sklearn.metrics import f1_score, recall_score, precision_score, accuracy_score, confusion_matrix\n",
    "def accuracy(theta, x_test, y_test):\n",
    "    y_pred = predict(np.matrix(theta),x_test)\n",
    "    return accuracy_score(y_test, y_pred)"
   ]
  },
  {
   "cell_type": "markdown",
   "metadata": {},
   "source": [
    " # Logistic Regression"
   ]
  },
  {
   "cell_type": "markdown",
   "metadata": {},
   "source": [
    "სიგმოიდს ვიყენებთ იმისთვის, რომ h(X) დანორმალიზირდეს ([0,1]), მერე კლასიფიკაცია მოვახდენთ Theschold-ით."
   ]
  },
  {
   "cell_type": "code",
   "execution_count": 43,
   "metadata": {},
   "outputs": [],
   "source": [
    "def sigmoid(z):\n",
    "    return 1 / (1 + np.exp(-z))"
   ]
  },
  {
   "cell_type": "code",
   "execution_count": 44,
   "metadata": {},
   "outputs": [],
   "source": [
    "def hypothesis(X, theta):\n",
    "    return sigmoid(X * theta.T)"
   ]
  },
  {
   "cell_type": "markdown",
   "metadata": {},
   "source": [
    "calculate_cost-ი ითვლის თუ რა სიზუსტით ჩავარდა მონაცემები სწორ კლასში."
   ]
  },
  {
   "cell_type": "code",
   "execution_count": 45,
   "metadata": {},
   "outputs": [],
   "source": [
    "def calculate_cost(theta, X, y):\n",
    "    theta = np.matrix(theta)\n",
    "    X = np.matrix(X)\n",
    "    y = np.matrix(y)\n",
    "    first = np.multiply(-y, np.log(hypothesis(X, theta)))\n",
    "    second = np.multiply((1 - y), np.log(1 - hypothesis(X, theta)))\n",
    "    return np.sum(first - second) / (len(X))"
   ]
  },
  {
   "cell_type": "code",
   "execution_count": 46,
   "metadata": {},
   "outputs": [
    {
     "data": {
      "text/plain": [
       "0.6931471805599453"
      ]
     },
     "execution_count": 46,
     "metadata": {},
     "output_type": "execute_result"
    }
   ],
   "source": [
    "calculate_cost(theta, x_train, y_train)"
   ]
  },
  {
   "cell_type": "markdown",
   "metadata": {},
   "source": [
    "დავაკვირდეთ საწყის ქოსთს, გვინდა ამ მაჩვენებელმა დაიკლოს ნელ-ნელა."
   ]
  },
  {
   "cell_type": "code",
   "execution_count": 47,
   "metadata": {},
   "outputs": [],
   "source": [
    "def gradient(theta, X, y):\n",
    "    theta = np.matrix(theta)\n",
    "    X = np.matrix(X)\n",
    "    y = np.matrix(y)\n",
    "    # ითვლის ფიჩერების რაოდენობას, რათა თითოეულისთვის მოახდინოს\n",
    "    # მათი თეტას აფდეითისთვის სწორი შენამატის განსაზღვრა (- a * grad).\n",
    "    parameters = int(theta.ravel().shape[1])\n",
    "    # ესაა თითოეული ფიჩერისთვის დასათვლელი გრადებისთვის ადგილი\n",
    "    grad = np.zeros(parameters)\n",
    "    # ეს არ იცვლება ფიჩერების მიხედვით, ამიტომ აქ ვთვლი\n",
    "    error = hypothesis(X, theta) - y\n",
    "    for i in range(parameters):\n",
    "        # ფორმულას მიყვება შესაბამის ფიჩერის სვეტზე მრავლდება ერორი\n",
    "        term = np.multiply(error, X[:,i])\n",
    "        # იჯამება შედეგი\n",
    "        grad[i] = np.sum(term)\n",
    "        grad[i] = grad[i] / len(X)\n",
    "    return grad"
   ]
  },
  {
   "cell_type": "code",
   "execution_count": 48,
   "metadata": {},
   "outputs": [
    {
     "data": {
      "text/plain": [
       "array([ 0.18979592, -0.10916325,  0.06734694, -0.00617283,  0.06938776,\n",
       "        0.14776716,  0.04897959,  0.03596946, -0.16318812,  0.09145443,\n",
       "        0.13061224,  0.06734694])"
      ]
     },
     "execution_count": 48,
     "metadata": {},
     "output_type": "execute_result"
    }
   ],
   "source": [
    "gradient(theta, x_train, y_train)"
   ]
  },
  {
   "cell_type": "code",
   "execution_count": 49,
   "metadata": {},
   "outputs": [],
   "source": [
    "def logistic_regression(X, y, theta, alpha, iters):\n",
    "    cost_arr = np.zeros(iters)\n",
    "    for i in range(iters):\n",
    "        term = (alpha * np.matrix(gradient(theta, X, y))).T\n",
    "        term = np.squeeze(np.asarray(term))\n",
    "        theta = theta - term\n",
    "        cost_arr[i] = calculate_cost(theta, X, y)\n",
    "    return theta, cost_arr"
   ]
  },
  {
   "cell_type": "markdown",
   "metadata": {},
   "source": [
    "პატარა ალფათი ვიწყებ მე, რათა დავინახო ტენდენცია ქოსთის კლების მიდის თუ არა ამ კონკრეტული მნიშვნელობისთვის, თუ ასეა ალფას გავზრდი ნელ-ნელა იქამდე სადამდეც დავინახავ რომ ქოსთის საბოლოო იტერაციის შეფასება მინიმალურია და მეტი აღარ მცირდება"
   ]
  },
  {
   "cell_type": "code",
   "execution_count": 50,
   "metadata": {},
   "outputs": [
    {
     "data": {
      "text/plain": [
       "array([0.6795024 , 0.6670016 , 0.65554018, ..., 0.46812851, 0.46812851,\n",
       "       0.46812851])"
      ]
     },
     "execution_count": 50,
     "metadata": {},
     "output_type": "execute_result"
    }
   ],
   "source": [
    "#------------------------------ 1 --------------------------------------\n",
    "alpha = 0.1\n",
    "iters = 3000\n",
    "g, cost_num = logistic_regression(x_train, y_train, theta, alpha, iters)\n",
    "cost_num"
   ]
  },
  {
   "cell_type": "code",
   "execution_count": 51,
   "metadata": {},
   "outputs": [
    {
     "data": {
      "text/plain": [
       "0.4681285074310204"
      ]
     },
     "execution_count": 51,
     "metadata": {},
     "output_type": "execute_result"
    }
   ],
   "source": [
    "calculate_cost(g, x_train, y_train)"
   ]
  },
  {
   "cell_type": "code",
   "execution_count": 52,
   "metadata": {},
   "outputs": [
    {
     "data": {
      "text/plain": [
       "array([0.63088228, 0.59177752, 0.56608456, ..., 0.46812741, 0.46812741,\n",
       "       0.46812741])"
      ]
     },
     "execution_count": 52,
     "metadata": {},
     "output_type": "execute_result"
    }
   ],
   "source": [
    "#------------------------------ 2 --------------------------------------\n",
    "alpha = 0.5\n",
    "iters = 3000\n",
    "g, cost_num = logistic_regression(x_train, y_train, theta, alpha, iters)\n",
    "cost_num"
   ]
  },
  {
   "cell_type": "code",
   "execution_count": 53,
   "metadata": {},
   "outputs": [
    {
     "data": {
      "text/plain": [
       "0.46812741019691895"
      ]
     },
     "execution_count": 53,
     "metadata": {},
     "output_type": "execute_result"
    }
   ],
   "source": [
    "calculate_cost(g, x_train, y_train)"
   ]
  },
  {
   "cell_type": "code",
   "execution_count": 54,
   "metadata": {},
   "outputs": [
    {
     "data": {
      "text/plain": [
       "(array([0.58311012, 0.54181871, 0.52151597, ..., 0.46812741, 0.46812741,\n",
       "        0.46812741]),\n",
       " array([-1.2474026 ,  0.65193337,  0.33616053,  0.17428285,  0.22811688,\n",
       "        -0.94408434,  0.51968079, -0.07858606,  0.65309912, -0.16424276,\n",
       "        -0.50005799,  0.00857745]))"
      ]
     },
     "execution_count": 54,
     "metadata": {},
     "output_type": "execute_result"
    }
   ],
   "source": [
    "#------------------------------ 3 --------------------------------------\n",
    "alpha = 1\n",
    "iters = 10000\n",
    "g, cost_num = logistic_regression(x_train, y_train, theta, alpha, iters)\n",
    "cost_num, g"
   ]
  },
  {
   "cell_type": "code",
   "execution_count": 55,
   "metadata": {},
   "outputs": [
    {
     "data": {
      "text/plain": [
       "0.4681274101969189"
      ]
     },
     "execution_count": 55,
     "metadata": {},
     "output_type": "execute_result"
    }
   ],
   "source": [
    "calculate_cost(g, x_train, y_train)"
   ]
  },
  {
   "cell_type": "markdown",
   "metadata": {},
   "source": [
    "აქ გავჩერდებით, რადგან წესით მაქსიმუმია. და აწი უფრო ზუსტი მონაცემის მიღება იტერაციის გაზრდითაა შესალებელი."
   ]
  },
  {
   "cell_type": "markdown",
   "metadata": {},
   "source": [
    "--- ესაა თავად ბიბლიოთეკა რომელიც ოპტიმიზაციასაც უკეთებს შედეგს (მინიმალიზაციას აკეთებს ქოსთისას)"
   ]
  },
  {
   "cell_type": "code",
   "execution_count": 56,
   "metadata": {},
   "outputs": [
    {
     "data": {
      "text/plain": [
       "(array([-1.24739839,  0.65193795,  0.33616203,  0.17428234,  0.22809983,\n",
       "        -0.94408789,  0.51968701, -0.07857931,  0.65309989, -0.16424214,\n",
       "        -0.50006985,  0.00858638]), 37, 1)"
      ]
     },
     "execution_count": 56,
     "metadata": {},
     "output_type": "execute_result"
    }
   ],
   "source": [
    "import scipy.optimize as opt\n",
    "result = opt.fmin_tnc(func=calculate_cost, x0=theta, fprime=gradient, args=(x_train, y_train))\n",
    "result"
   ]
  },
  {
   "cell_type": "code",
   "execution_count": 57,
   "metadata": {},
   "outputs": [
    {
     "data": {
      "text/plain": [
       "0.4681274102133499"
      ]
     },
     "execution_count": 57,
     "metadata": {},
     "output_type": "execute_result"
    }
   ],
   "source": [
    "calculate_cost(result[0], x_train, y_train)"
   ]
  },
  {
   "cell_type": "markdown",
   "metadata": {},
   "source": [
    "ვხედავთ რომ არც მინიმალური ქოსთი არის ჩვენისგან დიდად განსხვავებული, ცოტა უფრო ზუსტია"
   ]
  },
  {
   "cell_type": "markdown",
   "metadata": {},
   "source": [
    "|||| ზოგადად გამოდის რომ ქოსთი თავდაპირველთან შედარებით უფრო მცირეა ნამდვილად."
   ]
  },
  {
   "cell_type": "markdown",
   "metadata": {},
   "source": [
    "### --- სიზუსტე რამდენი პროცენტია?"
   ]
  },
  {
   "cell_type": "code",
   "execution_count": 58,
   "metadata": {},
   "outputs": [
    {
     "data": {
      "text/plain": [
       "(0.7836734693877551, 0.7836734693877551)"
      ]
     },
     "execution_count": 58,
     "metadata": {},
     "output_type": "execute_result"
    }
   ],
   "source": [
    "accuracy(g, x_train, y_train), accuracy(result[0], x_train, y_train)"
   ]
  },
  {
   "cell_type": "markdown",
   "metadata": {},
   "source": [
    "გამოვიდა რომ 78%-ში სწორი პასუხი მომცა ტესტ სეტზე (მშვენიერი შედეგია)"
   ]
  },
  {
   "cell_type": "code",
   "execution_count": 59,
   "metadata": {},
   "outputs": [
    {
     "data": {
      "text/plain": [
       "(0.7407407407407407, 0.7407407407407407)"
      ]
     },
     "execution_count": 59,
     "metadata": {},
     "output_type": "execute_result"
    }
   ],
   "source": [
    "acc = accuracy(result[0], x_test, y_test)\n",
    "accuracy_list['logistic regression'] = acc\n",
    "accuracy(g, x_test, y_test), acc"
   ]
  },
  {
   "cell_type": "markdown",
   "metadata": {},
   "source": [
    "# 4. ოპტიმიზაცია"
   ]
  },
  {
   "cell_type": "markdown",
   "metadata": {},
   "source": [
    "# Regularized Logistic Regression"
   ]
  },
  {
   "cell_type": "code",
   "execution_count": 60,
   "metadata": {},
   "outputs": [],
   "source": [
    "def costReg(theta, X, y, learningRate):\n",
    "    theta = np.matrix(theta)\n",
    "    X = np.matrix(X)\n",
    "    y = np.matrix(y)\n",
    "    first = np.multiply(-y, np.log(sigmoid(X * theta.T)))\n",
    "    second = np.multiply((1 - y), np.log(1 - sigmoid(X * theta.T)))\n",
    "    reg = (learningRate / 2 * len(X)) * np.sum(np.power(theta[:,1:theta.shape[1]], 2))\n",
    "    return np.sum(first - second) / (len(X)) + reg"
   ]
  },
  {
   "cell_type": "code",
   "execution_count": 61,
   "metadata": {},
   "outputs": [],
   "source": [
    "# ამასაც ჩავწერდი ზედა ლოგისტიკური რეგრესიის მსგავსად თავისი იტერაციებით ხელით, მაგრამ ამდენი რაღაცის მერე იყოს ასე...\n",
    "def gradientReg(theta, X, y, learningRate):\n",
    "    theta = np.matrix(theta)\n",
    "    X = np.matrix(X)\n",
    "    y = np.matrix(y)\n",
    "    parameters = int(theta.ravel().shape[1])\n",
    "    grad = np.zeros(parameters)\n",
    "    error = sigmoid(X * theta.T) - y\n",
    "    for i in range(parameters):\n",
    "        term = np.multiply(error, X[:,i])\n",
    "        # ეს ნაწილია განსხვავებილი, პირველი თეტასთვის ცალკე შემთხვევაა (რადგან მას მეწყვილე ფიჩერი არა ყავს)\n",
    "        if (i == 0):\n",
    "            grad[i] = np.sum(term) / len(X)\n",
    "        else:\n",
    "            grad[i] = (np.sum(term) / len(X)) + ((learningRate / len(X)) * theta[:,i])\n",
    "    return grad"
   ]
  },
  {
   "cell_type": "code",
   "execution_count": 62,
   "metadata": {},
   "outputs": [],
   "source": [
    "learningRate = 1"
   ]
  },
  {
   "cell_type": "code",
   "execution_count": 63,
   "metadata": {},
   "outputs": [
    {
     "data": {
      "text/plain": [
       "0.6931471805599453"
      ]
     },
     "execution_count": 63,
     "metadata": {},
     "output_type": "execute_result"
    }
   ],
   "source": [
    "costReg(theta, x_train, y_train, learningRate)"
   ]
  },
  {
   "cell_type": "code",
   "execution_count": 64,
   "metadata": {},
   "outputs": [
    {
     "data": {
      "text/plain": [
       "array([ 0.18979592, -0.10916325,  0.06734694, -0.00617283,  0.06938776,\n",
       "        0.14776716,  0.04897959,  0.03596946, -0.16318812,  0.09145443,\n",
       "        0.13061224,  0.06734694])"
      ]
     },
     "execution_count": 64,
     "metadata": {},
     "output_type": "execute_result"
    }
   ],
   "source": [
    "gradientReg(theta,  x_train, y_train , learningRate)"
   ]
  },
  {
   "cell_type": "code",
   "execution_count": 65,
   "metadata": {},
   "outputs": [
    {
     "data": {
      "text/plain": [
       "(array([-7.70571921e-04,  7.38616511e-04, -1.46742605e-04,  6.57265559e-05,\n",
       "        -1.88729798e-04, -1.03250706e-03, -1.81258360e-05, -9.95179439e-05,\n",
       "         9.29151533e-04, -4.02649348e-04, -5.24772715e-04, -2.43652188e-04]),\n",
       " 90,\n",
       " 1)"
      ]
     },
     "execution_count": 65,
     "metadata": {},
     "output_type": "execute_result"
    }
   ],
   "source": [
    "result_reg = opt.fmin_tnc(func=costReg, x0=theta, fprime=gradientReg, args=(x_train, y_train, learningRate))\n",
    "result_reg"
   ]
  },
  {
   "cell_type": "code",
   "execution_count": 66,
   "metadata": {},
   "outputs": [
    {
     "data": {
      "text/plain": [
       "0.6928399670654078"
      ]
     },
     "execution_count": 66,
     "metadata": {},
     "output_type": "execute_result"
    }
   ],
   "source": [
    "costReg(result_reg[0], x_train, y_train, learningRate)"
   ]
  },
  {
   "cell_type": "markdown",
   "metadata": {},
   "source": [
    "### --- სიზუსტე რამდენი პროცენტია?"
   ]
  },
  {
   "cell_type": "code",
   "execution_count": 67,
   "metadata": {},
   "outputs": [
    {
     "data": {
      "text/plain": [
       "(0.7918367346938775, 0.7407407407407407)"
      ]
     },
     "execution_count": 67,
     "metadata": {},
     "output_type": "execute_result"
    }
   ],
   "source": [
    "acc = accuracy(result_reg[0], x_test, y_test)\n",
    "accuracy_list['regularized logistic regression'] = acc\n",
    "accuracy(result_reg[0], x_train, y_train), acc"
   ]
  },
  {
   "cell_type": "markdown",
   "metadata": {},
   "source": [
    "ცოტათი თუმცა ჩანს რომ რეგულარიზაციას თან შედეგები ახლავს."
   ]
  },
  {
   "cell_type": "code",
   "execution_count": 68,
   "metadata": {},
   "outputs": [
    {
     "data": {
      "image/png": "[encoded data removed]",
      "text/plain": [
       "<Figure size 432x288 with 2 Axes>"
      ]
     },
     "metadata": {},
     "output_type": "display_data"
    }
   ],
   "source": [
    "# გამოდის რომ \n",
    "cm = confusion_matrix(y_test,predict(np.matrix(result[0]),x_test))\n",
    "sns.heatmap(cm,annot=True, linewidths=1)\n",
    "plt.title(\"Logistic Regression - Confusion Matrix\")\n",
    "plt.xticks(range(2), [\"Heart Not Failed\",\"Heart Fail\"], fontsize=4)\n",
    "plt.yticks(range(2), [\"Heart Not Failed\",\"Heart Fail\"], fontsize=4)\n",
    "plt.show()"
   ]
  },
  {
   "cell_type": "markdown",
   "metadata": {},
   "source": [
    "12 შემთხვევაში ვარაუდობს რომ არ უნდა დასრულდეს სიკვდილით, თუმცა სრულდება. \n",
    "8 შემთხვევაში ფიქრობს რომ უნდა დასრულდეს მაგრამ არა. "
   ]
  },
  {
   "cell_type": "code",
   "execution_count": 69,
   "metadata": {},
   "outputs": [
    {
     "data": {
      "image/png": "[encoded data removed]",
      "text/plain": [
       "<Figure size 432x288 with 2 Axes>"
      ]
     },
     "metadata": {},
     "output_type": "display_data"
    }
   ],
   "source": [
    "cm = confusion_matrix(y_test,predict(np.matrix(result_reg[0]),x_test))\n",
    "sns.heatmap(cm,annot=True, linewidths=1)\n",
    "plt.title(\"Regularized Logistic Regression - Confusion Matrix\")\n",
    "plt.xticks(range(2), [\"Heart Not Failed\",\"Heart Fail\"], fontsize=4)\n",
    "plt.yticks(range(2), [\"Heart Not Failed\",\"Heart Fail\"], fontsize=4)\n",
    "plt.show()"
   ]
  },
  {
   "cell_type": "markdown",
   "metadata": {},
   "source": [
    "აქ 11/9-ზე. დიდი განსხვავებაა არაა."
   ]
  },
  {
   "cell_type": "markdown",
   "metadata": {},
   "source": [
    "#### კარგი იქნებოდა დაკვირვება რა შემთხვევაში ცდება ალგორითმი და შეცდომასა და ფიჩერებს შორის რამე კავშირი არის თუ არა\n",
    "\n",
    "#### და ფიჩერების გადაყრა წაგვეხმარებოდა თუ არა"
   ]
  },
  {
   "cell_type": "markdown",
   "metadata": {},
   "source": [
    "-- კატეგორიულებიდან მოვიშოროთ ყველა, რადგან მეხუთე ეტაპზე ჩანს კარგად რომ სიკვდილის შედეგთან მიმართებით ბევრს არაფერს ამბობდნენ.\n",
    "ასევე რიცხვითი ცვლადებიდან უკვე გავფილტრე კოროლაციის მეშვეობით ფიჩერები და მრჩებოდა --->\n",
    "age                  0.240235\n",
    "ejection_fraction    0.294260\n",
    "serum_creatinine     0.360301\n",
    "serum_sodium         0.189253"
   ]
  },
  {
   "cell_type": "code",
   "execution_count": 70,
   "metadata": {},
   "outputs": [
    {
     "data": {
      "text/html": [
       "<div>\n",
       "<style scoped>\n",
       "    .dataframe tbody tr th:only-of-type {\n",
       "        vertical-align: middle;\n",
       "    }\n",
       "\n",
       "    .dataframe tbody tr th {\n",
       "        vertical-align: top;\n",
       "    }\n",
       "\n",
       "    .dataframe thead th {\n",
       "        text-align: right;\n",
       "    }\n",
       "</style>\n",
       "<table border=\"1\" class=\"dataframe\">\n",
       "  <thead>\n",
       "    <tr style=\"text-align: right;\">\n",
       "      <th></th>\n",
       "      <th>Ones</th>\n",
       "      <th>age</th>\n",
       "      <th>anaemia</th>\n",
       "      <th>ejection_fraction</th>\n",
       "      <th>high_blood_pressure</th>\n",
       "      <th>serum_creatinine</th>\n",
       "      <th>serum_sodium</th>\n",
       "      <th>DEATH_EVENT</th>\n",
       "    </tr>\n",
       "  </thead>\n",
       "  <tbody>\n",
       "    <tr>\n",
       "      <th>0</th>\n",
       "      <td>1</td>\n",
       "      <td>1.171715</td>\n",
       "      <td>0</td>\n",
       "      <td>-1.706438</td>\n",
       "      <td>1</td>\n",
       "      <td>0.979921</td>\n",
       "      <td>-1.494279</td>\n",
       "      <td>1</td>\n",
       "    </tr>\n",
       "    <tr>\n",
       "      <th>1</th>\n",
       "      <td>1</td>\n",
       "      <td>-0.420357</td>\n",
       "      <td>0</td>\n",
       "      <td>0.070509</td>\n",
       "      <td>0</td>\n",
       "      <td>-0.228312</td>\n",
       "      <td>-0.212718</td>\n",
       "      <td>1</td>\n",
       "    </tr>\n",
       "    <tr>\n",
       "      <th>2</th>\n",
       "      <td>1</td>\n",
       "      <td>0.437157</td>\n",
       "      <td>0</td>\n",
       "      <td>-1.706438</td>\n",
       "      <td>0</td>\n",
       "      <td>0.140991</td>\n",
       "      <td>-1.686071</td>\n",
       "      <td>1</td>\n",
       "    </tr>\n",
       "    <tr>\n",
       "      <th>3</th>\n",
       "      <td>1</td>\n",
       "      <td>-0.909598</td>\n",
       "      <td>1</td>\n",
       "      <td>-1.706438</td>\n",
       "      <td>0</td>\n",
       "      <td>0.979921</td>\n",
       "      <td>0.024027</td>\n",
       "      <td>1</td>\n",
       "    </tr>\n",
       "    <tr>\n",
       "      <th>4</th>\n",
       "      <td>1</td>\n",
       "      <td>0.437157</td>\n",
       "      <td>1</td>\n",
       "      <td>-1.706438</td>\n",
       "      <td>0</td>\n",
       "      <td>1.756749</td>\n",
       "      <td>-3.693622</td>\n",
       "      <td>1</td>\n",
       "    </tr>\n",
       "  </tbody>\n",
       "</table>\n",
       "</div>"
      ],
      "text/plain": [
       "   Ones       age  anaemia  ejection_fraction  high_blood_pressure  \\\n",
       "0     1  1.171715        0          -1.706438                    1   \n",
       "1     1 -0.420357        0           0.070509                    0   \n",
       "2     1  0.437157        0          -1.706438                    0   \n",
       "3     1 -0.909598        1          -1.706438                    0   \n",
       "4     1  0.437157        1          -1.706438                    0   \n",
       "\n",
       "   serum_creatinine  serum_sodium  DEATH_EVENT  \n",
       "0          0.979921     -1.494279            1  \n",
       "1         -0.228312     -0.212718            1  \n",
       "2          0.140991     -1.686071            1  \n",
       "3          0.979921      0.024027            1  \n",
       "4          1.756749     -3.693622            1  "
      ]
     },
     "execution_count": 70,
     "metadata": {},
     "output_type": "execute_result"
    }
   ],
   "source": [
    "#data=data.drop(['anaemia'],axis=1)\n",
    "#cat_cols.remove('anaemia')\n",
    "data=data.drop(['creatinine_phosphokinase'],axis=1)\n",
    "num_cols.remove('creatinine_phosphokinase')\n",
    "data=data.drop(['diabetes'],axis=1)\n",
    "cat_cols.remove('diabetes')\n",
    "#data=data.drop(['high_blood_pressure'],axis=1)\n",
    "#cat_cols.remove('high_blood_pressure')\n",
    "data=data.drop(['platelets'],axis=1)\n",
    "num_cols.remove('platelets')\n",
    "data=data.drop(['sex'],axis=1)\n",
    "cat_cols.remove('sex')\n",
    "data=data.drop(['smoking'],axis=1)\n",
    "cat_cols.remove('smoking')\n",
    "data.head()"
   ]
  },
  {
   "cell_type": "code",
   "execution_count": 71,
   "metadata": {},
   "outputs": [],
   "source": [
    "cols = data.shape[1]\n",
    "X = data.iloc[:,0:cols-1]\n",
    "y = data.iloc[:,cols-1:cols]\n",
    "\n",
    "X = np.array(X.values)\n",
    "y = np.array(y.values)\n",
    "theta = np.zeros(cols - 1)\n",
    "\n",
    "from sklearn.model_selection import train_test_split\n",
    "x_train, x_test, y_train, y_test = train_test_split(X, y, test_size = 0.18, random_state = 0)"
   ]
  },
  {
   "cell_type": "code",
   "execution_count": 72,
   "metadata": {},
   "outputs": [
    {
     "data": {
      "text/plain": [
       "(array([-1.42157484,  0.60636693,  0.28634282, -0.91674071,  0.54834284,\n",
       "         0.61285947, -0.15491095]), 23, 1)"
      ]
     },
     "execution_count": 72,
     "metadata": {},
     "output_type": "execute_result"
    }
   ],
   "source": [
    "result = opt.fmin_tnc(func=calculate_cost, x0=theta, fprime=gradient, args=(x_train, y_train))\n",
    "result"
   ]
  },
  {
   "cell_type": "code",
   "execution_count": 73,
   "metadata": {},
   "outputs": [
    {
     "data": {
      "text/plain": [
       "(0.7755102040816326, 0.7222222222222222)"
      ]
     },
     "execution_count": 73,
     "metadata": {},
     "output_type": "execute_result"
    }
   ],
   "source": [
    "acc = accuracy(result[0], x_test, y_test)\n",
    "accuracy_list['trimed logistic regression'] = acc\n",
    "accuracy(result[0], x_train, y_train), acc"
   ]
  },
  {
   "cell_type": "code",
   "execution_count": 74,
   "metadata": {},
   "outputs": [
    {
     "data": {
      "text/plain": [
       "(array([-2.71320424e-03,  1.67416424e-03, -4.25131455e-04, -2.26140753e-03,\n",
       "        -4.47384407e-06,  1.66602376e-03, -2.09499017e-04]), 90, 4)"
      ]
     },
     "execution_count": 74,
     "metadata": {},
     "output_type": "execute_result"
    }
   ],
   "source": [
    "result_reg = opt.fmin_tnc(func=costReg, x0=theta, fprime=gradientReg, args=(x_train, y_train, learningRate))\n",
    "result_reg"
   ]
  },
  {
   "cell_type": "code",
   "execution_count": 75,
   "metadata": {},
   "outputs": [
    {
     "data": {
      "text/plain": [
       "(0.7795918367346939, 0.7037037037037037)"
      ]
     },
     "execution_count": 75,
     "metadata": {},
     "output_type": "execute_result"
    }
   ],
   "source": [
    "acc = accuracy(result_reg[0], x_test, y_test)\n",
    "accuracy_list['trimed regularized logistic regression'] = acc\n",
    "accuracy(result_reg[0], x_train, y_train), acc"
   ]
  },
  {
   "cell_type": "code",
   "execution_count": 76,
   "metadata": {},
   "outputs": [
    {
     "data": {
      "image/png": "[encoded data removed]",
      "text/plain": [
       "<Figure size 432x288 with 2 Axes>"
      ]
     },
     "metadata": {},
     "output_type": "display_data"
    }
   ],
   "source": [
    "cm = confusion_matrix(y_test,predict(np.matrix(result[0]),x_test))\n",
    "sns.heatmap(cm,annot=True, linewidths=1)\n",
    "plt.title(\"T Logistic Regression - Confusion Matrix\")\n",
    "plt.xticks(range(2), [\"Heart Not Failed\",\"Heart Fail\"], fontsize=4)\n",
    "plt.yticks(range(2), [\"Heart Not Failed\",\"Heart Fail\"], fontsize=4)\n",
    "plt.show()"
   ]
  },
  {
   "cell_type": "code",
   "execution_count": 77,
   "metadata": {},
   "outputs": [
    {
     "data": {
      "image/png": "[encoded data removed]",
      "text/plain": [
       "<Figure size 432x288 with 2 Axes>"
      ]
     },
     "metadata": {},
     "output_type": "display_data"
    }
   ],
   "source": [
    "cm = confusion_matrix(y_test,predict(np.matrix(result_reg[0]),x_test))\n",
    "sns.heatmap(cm,annot=True, linewidths=1)\n",
    "plt.title(\"Regularized Logistic Regression - Confusion Matrix\")\n",
    "plt.xticks(range(2), [\"Heart Not Failed\",\"Heart Fail\"], fontsize=4)\n",
    "plt.yticks(range(2), [\"Heart Not Failed\",\"Heart Fail\"], fontsize=4)\n",
    "plt.show()"
   ]
  },
  {
   "cell_type": "markdown",
   "metadata": {},
   "source": [
    "ჩანს სიზუსტე ამ ფიჩერების დადროფვით არ გაუმჯობესდა, შეიძლება ამ ტესტ მონაცემებზე (შეიძლება ისე უკეთესი შედეგიც მოეცა)"
   ]
  },
  {
   "cell_type": "code",
   "execution_count": 78,
   "metadata": {},
   "outputs": [],
   "source": [
    "# ბოლო ნაწილი შეიძლება წამეშალა რადგან ბევრს არაფერს იძლევა"
   ]
  },
  {
   "cell_type": "code",
   "execution_count": null,
   "metadata": {},
   "outputs": [],
   "source": []
  }
 ],
 "metadata": {
  "kernelspec": {
   "display_name": "Python 3",
   "language": "python",
   "name": "python3"
  },
  "language_info": {
   "codemirror_mode": {
    "name": "ipython",
    "version": 3
   },
   "file_extension": ".py",
   "mimetype": "text/x-python",
   "name": "python",
   "nbconvert_exporter": "python",
   "pygments_lexer": "ipython3",
   "version": "3.8.5"
  }
 },
 "nbformat": 4,
 "nbformat_minor": 2
}
